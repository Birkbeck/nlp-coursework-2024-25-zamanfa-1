{
 "cells": [
  {
   "cell_type": "code",
   "execution_count": 12,
   "id": "ba80570d-90e1-44a3-9a3c-c9e3fa72c076",
   "metadata": {},
   "outputs": [],
   "source": [
    "import pandas as pd\n",
    "from sklearn.feature_extraction.text import TfidfVectorizer\n",
    "from sklearn.model_selection import train_test_split\n",
    "from sklearn.ensemble import RandomForestClassifier\n",
    "from sklearn.svm import SVC\n",
    "from sklearn.metrics import f1_score, classification_report\n",
    "import spacy\n",
    "from sklearn.naive_bayes import MultinomialNB\n",
    "from sklearn.linear_model import LogisticRegression, PassiveAggressiveClassifier\n",
    "from sklearn.neural_network import MLPClassifier\n",
    "\n",
    "nlp = spacy.load(\"en_core_web_sm\")"
   ]
  },
  {
   "cell_type": "code",
   "execution_count": 2,
   "id": "328adf1b-1024-416b-a362-1e624ae3c1d3",
   "metadata": {},
   "outputs": [
    {
     "name": "stdout",
     "output_type": "stream",
     "text": [
      "                                                  speech         party  \\\n",
      "0      Unemployment is soaring, uptake in benefits ha...        Labour   \n",
      "1      I thank the hon. Gentleman for raising issues ...  Conservative   \n",
      "2      As my hon. Friend the Member for Portsmouth So...        Labour   \n",
      "3      I thank the hon. Gentleman for raising the nee...  Conservative   \n",
      "4      There is no doubt that the unemployment situat...        Labour   \n",
      "...                                                  ...           ...   \n",
      "39995  I totally agree with everything that the right...       Speaker   \n",
      "39996  Message to attend the Lords Commissioners deli...           NaN   \n",
      "39997  I have to acquaint the House that the House ha...       Speaker   \n",
      "39998  I have further to acquaint the House that the ...       Speaker   \n",
      "39999  The Commission was also for proroguing this pr...       Speaker   \n",
      "\n",
      "                    constituency        date speech_class  \\\n",
      "0               Portsmouth South  2020-09-14       Speech   \n",
      "1                     Mid Sussex  2020-09-14       Speech   \n",
      "2         Warwick and Leamington  2020-09-14       Speech   \n",
      "3                     Mid Sussex  2020-09-14       Speech   \n",
      "4      Ellesmere Port and Neston  2020-09-14       Speech   \n",
      "...                          ...         ...          ...   \n",
      "39995                    Chorley  2021-04-29       Speech   \n",
      "39996                        NaN  2021-04-29   Procedural   \n",
      "39997                    Chorley  2021-04-29       Speech   \n",
      "39998                    Chorley  2021-04-29       Speech   \n",
      "39999                    Chorley  2021-04-29       Speech   \n",
      "\n",
      "                                   major_heading  year     speakername  \n",
      "0                              Work and Pensions  2020  Stephen Morgan  \n",
      "1                              Work and Pensions  2020     Mims Davies  \n",
      "2                              Work and Pensions  2020    Matt Western  \n",
      "3                              Work and Pensions  2020     Mims Davies  \n",
      "4                              Work and Pensions  2020  Justin Madders  \n",
      "...                                          ...   ...             ...  \n",
      "39995                             Point of Order  2021   Lindsay Hoyle  \n",
      "39996  Message to Attend the Lords Commissioners  2021         Unknown  \n",
      "39997                               Royal Assent  2021   Lindsay Hoyle  \n",
      "39998         Her Majesty’s Most Gracious Speech  2021   Lindsay Hoyle  \n",
      "39999                                Prorogation  2021   Lindsay Hoyle  \n",
      "\n",
      "[40000 rows x 8 columns]\n"
     ]
    }
   ],
   "source": [
    "df = pd.read_csv(\"p2-texts/hansard40000.csv\")\n",
    "print(df)"
   ]
  },
  {
   "cell_type": "code",
   "execution_count": 3,
   "id": "2a755485-5452-47fe-a902-251ab85fafd4",
   "metadata": {},
   "outputs": [
    {
     "name": "stdout",
     "output_type": "stream",
     "text": [
      "0              Labour\n",
      "1        Conservative\n",
      "2              Labour\n",
      "3        Conservative\n",
      "4              Labour\n",
      "             ...     \n",
      "39995         Speaker\n",
      "39996             NaN\n",
      "39997         Speaker\n",
      "39998         Speaker\n",
      "39999         Speaker\n",
      "Name: party, Length: 40000, dtype: object\n"
     ]
    }
   ],
   "source": [
    "df['party'] = df['party'].replace('Labour (Co-op)', 'Labour')\n",
    "print(df['party'])"
   ]
  },
  {
   "cell_type": "code",
   "execution_count": 4,
   "id": "dae7abbc-ee43-40ef-8fdf-a011506b7f3d",
   "metadata": {},
   "outputs": [
    {
     "name": "stdout",
     "output_type": "stream",
     "text": [
      "                                                  speech         party  \\\n",
      "0      Unemployment is soaring, uptake in benefits ha...        Labour   \n",
      "1      I thank the hon. Gentleman for raising issues ...  Conservative   \n",
      "2      As my hon. Friend the Member for Portsmouth So...        Labour   \n",
      "3      I thank the hon. Gentleman for raising the nee...  Conservative   \n",
      "4      There is no doubt that the unemployment situat...        Labour   \n",
      "...                                                  ...           ...   \n",
      "39985  I will answer my hon. Friend. East West Rail, ...  Conservative   \n",
      "39990  The hon. Gentleman is absolutely right to poin...  Conservative   \n",
      "39991  Cutting-edge maritime projects such as the Hol...  Conservative   \n",
      "39992  My hon. Friend is a brilliant champion of conn...  Conservative   \n",
      "39994  On a point of order, Mr Speaker. As a further ...  Conservative   \n",
      "\n",
      "                    constituency        date speech_class      major_heading  \\\n",
      "0               Portsmouth South  2020-09-14       Speech  Work and Pensions   \n",
      "1                     Mid Sussex  2020-09-14       Speech  Work and Pensions   \n",
      "2         Warwick and Leamington  2020-09-14       Speech  Work and Pensions   \n",
      "3                     Mid Sussex  2020-09-14       Speech  Work and Pensions   \n",
      "4      Ellesmere Port and Neston  2020-09-14       Speech  Work and Pensions   \n",
      "...                          ...         ...          ...                ...   \n",
      "39985            Welwyn Hatfield  2021-04-29       Speech          Transport   \n",
      "39990            Welwyn Hatfield  2021-04-29       Speech          Transport   \n",
      "39991                   Ynys Môn  2021-04-29       Speech          Transport   \n",
      "39992                   Redditch  2021-04-29       Speech          Transport   \n",
      "39994     Haltemprice and Howden  2021-04-29       Speech     Point of Order   \n",
      "\n",
      "       year       speakername  \n",
      "0      2020    Stephen Morgan  \n",
      "1      2020       Mims Davies  \n",
      "2      2020      Matt Western  \n",
      "3      2020       Mims Davies  \n",
      "4      2020    Justin Madders  \n",
      "...     ...               ...  \n",
      "39985  2021      Grant Shapps  \n",
      "39990  2021      Grant Shapps  \n",
      "39991  2021  Virginia Crosbie  \n",
      "39992  2021    Rachel Maclean  \n",
      "39994  2021       David Davis  \n",
      "\n",
      "[36223 rows x 8 columns]\n"
     ]
    }
   ],
   "source": [
    "common_parties = df['party'].value_counts().drop('Speaker').nlargest(4).index\n",
    "df = df[df['party'].isin(common_parties)]\n",
    "print(df)"
   ]
  },
  {
   "cell_type": "code",
   "execution_count": 5,
   "id": "478201d4-8eee-4e28-a00f-ade971f923bc",
   "metadata": {},
   "outputs": [
    {
     "name": "stdout",
     "output_type": "stream",
     "text": [
      "                                                  speech         party  \\\n",
      "0      Unemployment is soaring, uptake in benefits ha...        Labour   \n",
      "1      I thank the hon. Gentleman for raising issues ...  Conservative   \n",
      "2      As my hon. Friend the Member for Portsmouth So...        Labour   \n",
      "3      I thank the hon. Gentleman for raising the nee...  Conservative   \n",
      "4      There is no doubt that the unemployment situat...        Labour   \n",
      "...                                                  ...           ...   \n",
      "39985  I will answer my hon. Friend. East West Rail, ...  Conservative   \n",
      "39990  The hon. Gentleman is absolutely right to poin...  Conservative   \n",
      "39991  Cutting-edge maritime projects such as the Hol...  Conservative   \n",
      "39992  My hon. Friend is a brilliant champion of conn...  Conservative   \n",
      "39994  On a point of order, Mr Speaker. As a further ...  Conservative   \n",
      "\n",
      "                    constituency        date speech_class      major_heading  \\\n",
      "0               Portsmouth South  2020-09-14       Speech  Work and Pensions   \n",
      "1                     Mid Sussex  2020-09-14       Speech  Work and Pensions   \n",
      "2         Warwick and Leamington  2020-09-14       Speech  Work and Pensions   \n",
      "3                     Mid Sussex  2020-09-14       Speech  Work and Pensions   \n",
      "4      Ellesmere Port and Neston  2020-09-14       Speech  Work and Pensions   \n",
      "...                          ...         ...          ...                ...   \n",
      "39985            Welwyn Hatfield  2021-04-29       Speech          Transport   \n",
      "39990            Welwyn Hatfield  2021-04-29       Speech          Transport   \n",
      "39991                   Ynys Môn  2021-04-29       Speech          Transport   \n",
      "39992                   Redditch  2021-04-29       Speech          Transport   \n",
      "39994     Haltemprice and Howden  2021-04-29       Speech     Point of Order   \n",
      "\n",
      "       year       speakername  \n",
      "0      2020    Stephen Morgan  \n",
      "1      2020       Mims Davies  \n",
      "2      2020      Matt Western  \n",
      "3      2020       Mims Davies  \n",
      "4      2020    Justin Madders  \n",
      "...     ...               ...  \n",
      "39985  2021      Grant Shapps  \n",
      "39990  2021      Grant Shapps  \n",
      "39991  2021  Virginia Crosbie  \n",
      "39992  2021    Rachel Maclean  \n",
      "39994  2021       David Davis  \n",
      "\n",
      "[36223 rows x 8 columns]\n"
     ]
    }
   ],
   "source": [
    "df = df[df['speech_class'] == 'Speech']\n",
    "print(df)"
   ]
  },
  {
   "cell_type": "code",
   "execution_count": 6,
   "id": "6f60a5a6-eb82-483e-9db5-fb541dcea334",
   "metadata": {},
   "outputs": [
    {
     "name": "stdout",
     "output_type": "stream",
     "text": [
      "                                                  speech  \\\n",
      "63     It has been less than two weeks since the Gove...   \n",
      "99     I am delighted to announce that last Friday we...   \n",
      "100    I thank the Secretary of State for advance sig...   \n",
      "101    After the right hon. Lady’s congratulations to...   \n",
      "104    I congratulate the Secretary of State. I recog...   \n",
      "...                                                  ...   \n",
      "39831  I rise to present a petition on behalf of the ...   \n",
      "39834  Thank you, Mr Deputy Speaker, and I am very gr...   \n",
      "39835  I congratulate my hon. Friend the Member for S...   \n",
      "39837  The hon. Gentleman makes an important, twofold...   \n",
      "39869  Recent research by the Campaign to Protect Rur...   \n",
      "\n",
      "                         party                  constituency        date  \\\n",
      "63                Conservative               Suffolk Coastal  2020-09-14   \n",
      "99                Conservative            South West Norfolk  2020-09-14   \n",
      "100                     Labour  Islington South and Finsbury  2020-09-14   \n",
      "101               Conservative            South West Norfolk  2020-09-14   \n",
      "104    Scottish National Party                   Dundee East  2020-09-14   \n",
      "...                        ...                           ...         ...   \n",
      "39831             Conservative                 Rother Valley  2021-04-28   \n",
      "39834             Conservative       South West Bedfordshire  2021-04-28   \n",
      "39835             Conservative              Sutton and Cheam  2021-04-28   \n",
      "39837             Conservative              Sutton and Cheam  2021-04-28   \n",
      "39869                   Labour                  Ilford South  2021-04-29   \n",
      "\n",
      "      speech_class                      major_heading  year  \\\n",
      "63          Speech                  Work and Pensions  2020   \n",
      "99          Speech         Japan Free Trade Agreement  2020   \n",
      "100         Speech         Japan Free Trade Agreement  2020   \n",
      "101         Speech         Japan Free Trade Agreement  2020   \n",
      "104         Speech         Japan Free Trade Agreement  2020   \n",
      "...            ...                                ...   ...   \n",
      "39831       Speech       Petition - Levelling Up Fund  2021   \n",
      "39834       Speech  National Minimum Wage Enforcement  2021   \n",
      "39835       Speech  National Minimum Wage Enforcement  2021   \n",
      "39837       Speech  National Minimum Wage Enforcement  2021   \n",
      "39869       Speech                          Transport  2021   \n",
      "\n",
      "              speakername  \n",
      "63         Therese Coffey  \n",
      "99        Elizabeth Truss  \n",
      "100      Emily Thornberry  \n",
      "101       Elizabeth Truss  \n",
      "104         Stewart Hosie  \n",
      "...                   ...  \n",
      "39831  Alexander Stafford  \n",
      "39834       Andrew Selous  \n",
      "39835         Paul Scully  \n",
      "39837         Paul Scully  \n",
      "39869           Sam Tarry  \n",
      "\n",
      "[8084 rows x 8 columns]\n"
     ]
    }
   ],
   "source": [
    "df = df[df['speech'].str.len() >= 1000]\n",
    "print(df)"
   ]
  },
  {
   "cell_type": "code",
   "execution_count": 7,
   "id": "6e0b977e-55b3-4ebf-8273-cbc8c5239be5",
   "metadata": {},
   "outputs": [
    {
     "name": "stdout",
     "output_type": "stream",
     "text": [
      "(8084, 8)\n"
     ]
    }
   ],
   "source": [
    "print(df.shape)"
   ]
  },
  {
   "cell_type": "code",
   "execution_count": 8,
   "id": "e3a24715-a71d-4bee-bc68-ff68d260f997",
   "metadata": {},
   "outputs": [],
   "source": [
    "vectorize = TfidfVectorizer(stop_words='english', max_features=3000)\n",
    "x = vectorize.fit_transform(df['speech'])\n",
    "y = df['party']\n",
    "x_train, x_test, y_train, y_test = train_test_split(x, y, test_size=0.2, stratify=y, random_state=26)"
   ]
  },
  {
   "cell_type": "code",
   "execution_count": 9,
   "id": "97ec5afb-234c-4644-abfe-a3ea9c8c57b2",
   "metadata": {},
   "outputs": [
    {
     "name": "stdout",
     "output_type": "stream",
     "text": [
      "0.45469001950616234\n",
      "                         precision    recall  f1-score   support\n",
      "\n",
      "           Conservative       0.72      0.98      0.83       964\n",
      "                 Labour       0.75      0.44      0.56       463\n",
      "       Liberal Democrat       0.00      0.00      0.00        54\n",
      "Scottish National Party       0.87      0.29      0.43       136\n",
      "\n",
      "               accuracy                           0.73      1617\n",
      "              macro avg       0.59      0.43      0.45      1617\n",
      "           weighted avg       0.72      0.73      0.69      1617\n",
      "\n",
      "0.5933446121140653\n",
      "                         precision    recall  f1-score   support\n",
      "\n",
      "           Conservative       0.83      0.92      0.87       964\n",
      "                 Labour       0.74      0.71      0.72       463\n",
      "       Liberal Democrat       1.00      0.07      0.14        54\n",
      "Scottish National Party       0.78      0.54      0.64       136\n",
      "\n",
      "               accuracy                           0.80      1617\n",
      "              macro avg       0.84      0.56      0.59      1617\n",
      "           weighted avg       0.81      0.80      0.79      1617\n",
      "\n"
     ]
    },
    {
     "name": "stderr",
     "output_type": "stream",
     "text": [
      "C:\\Users\\zaman\\AppData\\Local\\Programs\\Python\\Python312\\Lib\\site-packages\\sklearn\\metrics\\_classification.py:1706: UndefinedMetricWarning: Precision is ill-defined and being set to 0.0 in labels with no predicted samples. Use `zero_division` parameter to control this behavior.\n",
      "  _warn_prf(average, modifier, f\"{metric.capitalize()} is\", result.shape[0])\n",
      "C:\\Users\\zaman\\AppData\\Local\\Programs\\Python\\Python312\\Lib\\site-packages\\sklearn\\metrics\\_classification.py:1706: UndefinedMetricWarning: Precision is ill-defined and being set to 0.0 in labels with no predicted samples. Use `zero_division` parameter to control this behavior.\n",
      "  _warn_prf(average, modifier, f\"{metric.capitalize()} is\", result.shape[0])\n",
      "C:\\Users\\zaman\\AppData\\Local\\Programs\\Python\\Python312\\Lib\\site-packages\\sklearn\\metrics\\_classification.py:1706: UndefinedMetricWarning: Precision is ill-defined and being set to 0.0 in labels with no predicted samples. Use `zero_division` parameter to control this behavior.\n",
      "  _warn_prf(average, modifier, f\"{metric.capitalize()} is\", result.shape[0])\n"
     ]
    }
   ],
   "source": [
    "random_forest = RandomForestClassifier(n_estimators=300, random_state=26)\n",
    "random_forest.fit(x_train, y_train)\n",
    "random_forest_predict = random_forest.predict(x_test)\n",
    "\n",
    "svm = SVC(kernel='linear', random_state=26)\n",
    "svm.fit(x_train, y_train)\n",
    "svm_predict = svm.predict(x_test)\n",
    "\n",
    "print(f1_score(y_test, random_forest_predict, average='macro'))\n",
    "print(classification_report(y_test, random_forest_predict))\n",
    "\n",
    "print(f1_score(y_test, svm_predict, average='macro'))\n",
    "print(classification_report(y_test, svm_predict))"
   ]
  },
  {
   "cell_type": "code",
   "execution_count": 10,
   "id": "1c6b5747-c45a-4ff9-96fd-9e4912c20700",
   "metadata": {},
   "outputs": [],
   "source": [
    "vectorize_ngrams = TfidfVectorizer(stop_words='english', max_features=3000, ngram_range=(1, 3))\n",
    "x_ngrams = vectorize_ngrams.fit_transform(df['speech'])\n",
    "\n",
    "x_train_ng, x_test_ng, y_train_ng, y_test_ng = train_test_split(x_ngrams, df['party'], test_size=0.2, stratify=df['party'], random_state=26)"
   ]
  },
  {
   "cell_type": "code",
   "execution_count": 11,
   "id": "63e22d94-4373-4bb0-9983-1db493c0d5cc",
   "metadata": {},
   "outputs": [
    {
     "name": "stdout",
     "output_type": "stream",
     "text": [
      "0.47930475175651455\n",
      "                         precision    recall  f1-score   support\n",
      "\n",
      "           Conservative       0.74      0.96      0.83       964\n",
      "                 Labour       0.75      0.48      0.58       463\n",
      "       Liberal Democrat       0.00      0.00      0.00        54\n",
      "Scottish National Party       0.84      0.35      0.50       136\n",
      "\n",
      "               accuracy                           0.74      1617\n",
      "              macro avg       0.58      0.45      0.48      1617\n",
      "           weighted avg       0.72      0.74      0.71      1617\n",
      "\n",
      "0.21864064489364304\n",
      "                         precision    recall  f1-score   support\n",
      "\n",
      "           Conservative       0.59      0.92      0.72       964\n",
      "                 Labour       0.27      0.07      0.11       463\n",
      "       Liberal Democrat       0.00      0.00      0.00        54\n",
      "Scottish National Party       1.00      0.02      0.04       136\n",
      "\n",
      "               accuracy                           0.57      1617\n",
      "              macro avg       0.47      0.25      0.22      1617\n",
      "           weighted avg       0.51      0.57      0.47      1617\n",
      "\n"
     ]
    },
    {
     "name": "stderr",
     "output_type": "stream",
     "text": [
      "C:\\Users\\zaman\\AppData\\Local\\Programs\\Python\\Python312\\Lib\\site-packages\\sklearn\\metrics\\_classification.py:1706: UndefinedMetricWarning: Precision is ill-defined and being set to 0.0 in labels with no predicted samples. Use `zero_division` parameter to control this behavior.\n",
      "  _warn_prf(average, modifier, f\"{metric.capitalize()} is\", result.shape[0])\n",
      "C:\\Users\\zaman\\AppData\\Local\\Programs\\Python\\Python312\\Lib\\site-packages\\sklearn\\metrics\\_classification.py:1706: UndefinedMetricWarning: Precision is ill-defined and being set to 0.0 in labels with no predicted samples. Use `zero_division` parameter to control this behavior.\n",
      "  _warn_prf(average, modifier, f\"{metric.capitalize()} is\", result.shape[0])\n",
      "C:\\Users\\zaman\\AppData\\Local\\Programs\\Python\\Python312\\Lib\\site-packages\\sklearn\\metrics\\_classification.py:1706: UndefinedMetricWarning: Precision is ill-defined and being set to 0.0 in labels with no predicted samples. Use `zero_division` parameter to control this behavior.\n",
      "  _warn_prf(average, modifier, f\"{metric.capitalize()} is\", result.shape[0])\n",
      "C:\\Users\\zaman\\AppData\\Local\\Programs\\Python\\Python312\\Lib\\site-packages\\sklearn\\metrics\\_classification.py:1706: UndefinedMetricWarning: Precision is ill-defined and being set to 0.0 in labels with no predicted samples. Use `zero_division` parameter to control this behavior.\n",
      "  _warn_prf(average, modifier, f\"{metric.capitalize()} is\", result.shape[0])\n",
      "C:\\Users\\zaman\\AppData\\Local\\Programs\\Python\\Python312\\Lib\\site-packages\\sklearn\\metrics\\_classification.py:1706: UndefinedMetricWarning: Precision is ill-defined and being set to 0.0 in labels with no predicted samples. Use `zero_division` parameter to control this behavior.\n",
      "  _warn_prf(average, modifier, f\"{metric.capitalize()} is\", result.shape[0])\n",
      "C:\\Users\\zaman\\AppData\\Local\\Programs\\Python\\Python312\\Lib\\site-packages\\sklearn\\metrics\\_classification.py:1706: UndefinedMetricWarning: Precision is ill-defined and being set to 0.0 in labels with no predicted samples. Use `zero_division` parameter to control this behavior.\n",
      "  _warn_prf(average, modifier, f\"{metric.capitalize()} is\", result.shape[0])\n"
     ]
    }
   ],
   "source": [
    "random_forest_ng = RandomForestClassifier(n_estimators=300, random_state=26)\n",
    "random_forest_ng.fit(x_train_ng, y_train_ng)\n",
    "random_forest_predict_ng = random_forest_ng.predict(x_test_ng)\n",
    "\n",
    "svm_ng = SVC(kernel='linear', random_state=26)\n",
    "svm_ng.fit(x_train_ng, y_train_ng)\n",
    "svm_predict_ng = svm.predict(x_test_ng)\n",
    "\n",
    "print(f1_score(y_test_ng, random_forest_predict_ng, average='macro'))\n",
    "print(classification_report(y_test_ng, random_forest_predict_ng))\n",
    "\n",
    "print(f1_score(y_test_ng, svm_predict_ng, average='macro'))\n",
    "print(classification_report(y_test_ng, svm_predict_ng))\n",
    "\n"
   ]
  },
  {
   "cell_type": "code",
   "execution_count": 13,
   "id": "304205d7-423c-40e9-b036-d7f9743997f7",
   "metadata": {},
   "outputs": [],
   "source": [
    "def custom_tokenizer(text):\n",
    "    doc = nlp(text)\n",
    "    return [token.lemma_.lower() for token in doc if not token.is_stop and not token.is_punct and len(token.text) > 2 and token.is_alpha]"
   ]
  },
  {
   "cell_type": "code",
   "execution_count": null,
   "id": "203c2fd2-2363-423d-84e0-bb97ccc9c538",
   "metadata": {},
   "outputs": [],
   "source": [
    "vectorizer"
   ]
  }
 ],
 "metadata": {
  "kernelspec": {
   "display_name": "Python 3 (ipykernel)",
   "language": "python",
   "name": "python3"
  },
  "language_info": {
   "codemirror_mode": {
    "name": "ipython",
    "version": 3
   },
   "file_extension": ".py",
   "mimetype": "text/x-python",
   "name": "python",
   "nbconvert_exporter": "python",
   "pygments_lexer": "ipython3",
   "version": "3.12.6"
  }
 },
 "nbformat": 4,
 "nbformat_minor": 5
}
