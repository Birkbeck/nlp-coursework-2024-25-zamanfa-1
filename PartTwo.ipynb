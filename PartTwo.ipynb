{
 "cells": [
  {
   "cell_type": "code",
   "execution_count": 1,
   "id": "ba80570d-90e1-44a3-9a3c-c9e3fa72c076",
   "metadata": {},
   "outputs": [],
   "source": [
    "import pandas as pd"
   ]
  },
  {
   "cell_type": "code",
   "execution_count": 2,
   "id": "328adf1b-1024-416b-a362-1e624ae3c1d3",
   "metadata": {},
   "outputs": [
    {
     "name": "stdout",
     "output_type": "stream",
     "text": [
      "                                                  speech         party  \\\n",
      "0      Unemployment is soaring, uptake in benefits ha...        Labour   \n",
      "1      I thank the hon. Gentleman for raising issues ...  Conservative   \n",
      "2      As my hon. Friend the Member for Portsmouth So...        Labour   \n",
      "3      I thank the hon. Gentleman for raising the nee...  Conservative   \n",
      "4      There is no doubt that the unemployment situat...        Labour   \n",
      "...                                                  ...           ...   \n",
      "39995  I totally agree with everything that the right...       Speaker   \n",
      "39996  Message to attend the Lords Commissioners deli...           NaN   \n",
      "39997  I have to acquaint the House that the House ha...       Speaker   \n",
      "39998  I have further to acquaint the House that the ...       Speaker   \n",
      "39999  The Commission was also for proroguing this pr...       Speaker   \n",
      "\n",
      "                    constituency        date speech_class  \\\n",
      "0               Portsmouth South  2020-09-14       Speech   \n",
      "1                     Mid Sussex  2020-09-14       Speech   \n",
      "2         Warwick and Leamington  2020-09-14       Speech   \n",
      "3                     Mid Sussex  2020-09-14       Speech   \n",
      "4      Ellesmere Port and Neston  2020-09-14       Speech   \n",
      "...                          ...         ...          ...   \n",
      "39995                    Chorley  2021-04-29       Speech   \n",
      "39996                        NaN  2021-04-29   Procedural   \n",
      "39997                    Chorley  2021-04-29       Speech   \n",
      "39998                    Chorley  2021-04-29       Speech   \n",
      "39999                    Chorley  2021-04-29       Speech   \n",
      "\n",
      "                                   major_heading  year     speakername  \n",
      "0                              Work and Pensions  2020  Stephen Morgan  \n",
      "1                              Work and Pensions  2020     Mims Davies  \n",
      "2                              Work and Pensions  2020    Matt Western  \n",
      "3                              Work and Pensions  2020     Mims Davies  \n",
      "4                              Work and Pensions  2020  Justin Madders  \n",
      "...                                          ...   ...             ...  \n",
      "39995                             Point of Order  2021   Lindsay Hoyle  \n",
      "39996  Message to Attend the Lords Commissioners  2021         Unknown  \n",
      "39997                               Royal Assent  2021   Lindsay Hoyle  \n",
      "39998         Her Majesty’s Most Gracious Speech  2021   Lindsay Hoyle  \n",
      "39999                                Prorogation  2021   Lindsay Hoyle  \n",
      "\n",
      "[40000 rows x 8 columns]\n"
     ]
    }
   ],
   "source": [
    "df = pd.read_csv(\"p2-texts/hansard40000.csv\")\n",
    "print(df)"
   ]
  },
  {
   "cell_type": "code",
   "execution_count": 3,
   "id": "2a755485-5452-47fe-a902-251ab85fafd4",
   "metadata": {},
   "outputs": [
    {
     "name": "stdout",
     "output_type": "stream",
     "text": [
      "0              Labour\n",
      "1        Conservative\n",
      "2              Labour\n",
      "3        Conservative\n",
      "4              Labour\n",
      "             ...     \n",
      "39995         Speaker\n",
      "39996             NaN\n",
      "39997         Speaker\n",
      "39998         Speaker\n",
      "39999         Speaker\n",
      "Name: party, Length: 40000, dtype: object\n"
     ]
    }
   ],
   "source": [
    "df['party'] = df['party'].replace('Labour (Co-op)', 'Labour')\n",
    "print(df['party'])"
   ]
  },
  {
   "cell_type": "code",
   "execution_count": 4,
   "id": "dae7abbc-ee43-40ef-8fdf-a011506b7f3d",
   "metadata": {},
   "outputs": [
    {
     "name": "stdout",
     "output_type": "stream",
     "text": [
      "                                                  speech         party  \\\n",
      "0      Unemployment is soaring, uptake in benefits ha...        Labour   \n",
      "1      I thank the hon. Gentleman for raising issues ...  Conservative   \n",
      "2      As my hon. Friend the Member for Portsmouth So...        Labour   \n",
      "3      I thank the hon. Gentleman for raising the nee...  Conservative   \n",
      "4      There is no doubt that the unemployment situat...        Labour   \n",
      "...                                                  ...           ...   \n",
      "39985  I will answer my hon. Friend. East West Rail, ...  Conservative   \n",
      "39990  The hon. Gentleman is absolutely right to poin...  Conservative   \n",
      "39991  Cutting-edge maritime projects such as the Hol...  Conservative   \n",
      "39992  My hon. Friend is a brilliant champion of conn...  Conservative   \n",
      "39994  On a point of order, Mr Speaker. As a further ...  Conservative   \n",
      "\n",
      "                    constituency        date speech_class      major_heading  \\\n",
      "0               Portsmouth South  2020-09-14       Speech  Work and Pensions   \n",
      "1                     Mid Sussex  2020-09-14       Speech  Work and Pensions   \n",
      "2         Warwick and Leamington  2020-09-14       Speech  Work and Pensions   \n",
      "3                     Mid Sussex  2020-09-14       Speech  Work and Pensions   \n",
      "4      Ellesmere Port and Neston  2020-09-14       Speech  Work and Pensions   \n",
      "...                          ...         ...          ...                ...   \n",
      "39985            Welwyn Hatfield  2021-04-29       Speech          Transport   \n",
      "39990            Welwyn Hatfield  2021-04-29       Speech          Transport   \n",
      "39991                   Ynys Môn  2021-04-29       Speech          Transport   \n",
      "39992                   Redditch  2021-04-29       Speech          Transport   \n",
      "39994     Haltemprice and Howden  2021-04-29       Speech     Point of Order   \n",
      "\n",
      "       year       speakername  \n",
      "0      2020    Stephen Morgan  \n",
      "1      2020       Mims Davies  \n",
      "2      2020      Matt Western  \n",
      "3      2020       Mims Davies  \n",
      "4      2020    Justin Madders  \n",
      "...     ...               ...  \n",
      "39985  2021      Grant Shapps  \n",
      "39990  2021      Grant Shapps  \n",
      "39991  2021  Virginia Crosbie  \n",
      "39992  2021    Rachel Maclean  \n",
      "39994  2021       David Davis  \n",
      "\n",
      "[36223 rows x 8 columns]\n"
     ]
    }
   ],
   "source": [
    "common_parties = df['party'].value_counts().drop('Speaker').nlargest(4).index\n",
    "df = df[df['party'].isin(common_parties)]\n",
    "print(df)"
   ]
  }
 ],
 "metadata": {
  "kernelspec": {
   "display_name": "Python 3 (ipykernel)",
   "language": "python",
   "name": "python3"
  },
  "language_info": {
   "codemirror_mode": {
    "name": "ipython",
    "version": 3
   },
   "file_extension": ".py",
   "mimetype": "text/x-python",
   "name": "python",
   "nbconvert_exporter": "python",
   "pygments_lexer": "ipython3",
   "version": "3.12.6"
  }
 },
 "nbformat": 4,
 "nbformat_minor": 5
}
